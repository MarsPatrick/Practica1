{
 "cells": [
  {
   "cell_type": "code",
   "execution_count": 1,
   "metadata": {},
   "outputs": [
    {
     "name": "stderr",
     "output_type": "stream",
     "text": [
      "Cloning into 'models'...\n",
      "Updating files:  65% (1620/2466)\n",
      "Updating files:  66% (1628/2466)\n",
      "Updating files:  67% (1653/2466)\n",
      "Updating files:  68% (1677/2466)\n",
      "Updating files:  69% (1702/2466)\n",
      "Updating files:  70% (1727/2466)\n",
      "Updating files:  71% (1751/2466)\n",
      "Updating files:  72% (1776/2466)\n",
      "Updating files:  73% (1801/2466)\n",
      "Updating files:  74% (1825/2466)\n",
      "Updating files:  75% (1850/2466)\n",
      "Updating files:  76% (1875/2466)\n",
      "Updating files:  77% (1899/2466)\n",
      "Updating files:  78% (1924/2466)\n",
      "Updating files:  79% (1949/2466)\n",
      "Updating files:  80% (1973/2466)\n",
      "Updating files:  81% (1998/2466)\n",
      "Updating files:  82% (2023/2466)\n",
      "Updating files:  82% (2026/2466)\n",
      "Updating files:  83% (2047/2466)\n",
      "Updating files:  84% (2072/2466)\n",
      "Updating files:  85% (2097/2466)\n",
      "Updating files:  86% (2121/2466)\n",
      "Updating files:  87% (2146/2466)\n",
      "Updating files:  88% (2171/2466)\n",
      "Updating files:  89% (2195/2466)\n",
      "Updating files:  90% (2220/2466)\n",
      "Updating files:  91% (2245/2466)\n",
      "Updating files:  92% (2269/2466)\n",
      "Updating files:  93% (2294/2466)\n",
      "Updating files:  94% (2319/2466)\n",
      "Updating files:  95% (2343/2466)\n",
      "Updating files:  96% (2368/2466)\n",
      "Updating files:  97% (2393/2466)\n",
      "Updating files:  98% (2417/2466)\n",
      "Updating files:  99% (2442/2466)\n",
      "Updating files: 100% (2466/2466)\n",
      "Updating files: 100% (2466/2466), done.\n"
     ]
    }
   ],
   "source": [
    "import pathlib\n",
    "\n",
    "if \"models\" in pathlib.Path.cwd().parts:\n",
    "  while \"models\" in pathlib.Path.cwd().parts:\n",
    "    os.chdir('..')\n",
    "elif not pathlib.Path('models').exists():\n",
    "  !git clone --depth 1 https://github.com/tensorflow/models"
   ]
  },
  {
   "cell_type": "markdown",
   "metadata": {},
   "source": [
    "# Importamos librerías necesarias"
   ]
  },
  {
   "cell_type": "code",
   "execution_count": 2,
   "metadata": {},
   "outputs": [],
   "source": [
    "import os\n",
    "import six.moves.urllib as urllib\n",
    "import sys\n",
    "import tarfile\n",
    "import zipfile\n",
    "\n",
    "from collections import defaultdict\n",
    "from io import StringIO\n",
    "from matplotlib import pyplot as plt\n",
    "\n",
    "from IPython.display import display\n",
    "import cv2\n",
    "from PIL import Image\n",
    "import numpy as np\n",
    "\n",
    "\n",
    "\n",
    "#From google\n",
    "import tensorflow as tf\n",
    "from object_detection.utils import ops as utils_ops\n",
    "from object_detection.utils import label_map_util\n",
    "from object_detection.utils import visualization_utils as vis_util\n",
    "\n",
    "\n",
    "# Patch the location of gfile\n",
    "tf.gfile = tf.io.gfile"
   ]
  },
  {
   "cell_type": "code",
   "execution_count": 4,
   "metadata": {},
   "outputs": [],
   "source": [
    "def load_model(model_name):\n",
    "\n",
    "    model_file ='http://download.tensorflow.org/models/object_detection/'+ model_name + '.tar.gz'\n",
    "\n",
    "    model_dir = tf.keras.utils.get_file(fname=model_name,origin=model_file,untar=True)\n",
    "\n",
    "    model_dir = pathlib.Path(model_dir)/\"saved_model\"\n",
    "\n",
    "    model = tf.saved_model.load(str(model_dir)) \n",
    "\n",
    "    model = model.signatures['serving_default']\n",
    "\n",
    "    return model\n",
    "\n",
    "def run_inference_for_single_image(model, image):\n",
    "\n",
    "    input_tensor = tf.convert_to_tensor(image)\n",
    "    input_tensor = input_tensor[tf.newaxis,...]\n",
    "\n",
    "\n",
    "    output_dict = model(input_tensor)\n",
    "    num_detections = int(output_dict.pop('num_detections'))\n",
    "\n",
    "    for key,value in output_dict.items():    \n",
    "        output_dict[key]= value[0,:num_detections].numpy()\n",
    "\n",
    "    output_dict['num_detections'] = num_detections\n",
    "\n",
    "    output_dict['detection_classes'] = output_dict['detection_classes'].astype(np.int64)\n",
    "\n",
    "    return output_dict"
   ]
  },
  {
   "cell_type": "markdown",
   "metadata": {},
   "source": [
    "# Carga de modelo y etiquetas"
   ]
  },
  {
   "cell_type": "code",
   "execution_count": 5,
   "metadata": {},
   "outputs": [],
   "source": [
    "# List of the strings that is used to add correct label for each box.\n",
    "PATH_TO_LABELS = 'models/research/object_detection/data/mscoco_label_map.pbtxt'\n",
    "category_index = label_map_util.create_category_index_from_labelmap(PATH_TO_LABELS, use_display_name=True)"
   ]
  },
  {
   "cell_type": "code",
   "execution_count": 6,
   "metadata": {},
   "outputs": [
    {
     "name": "stdout",
     "output_type": "stream",
     "text": [
      "INFO:tensorflow:Saver not created because there are no variables in the graph to restore\n"
     ]
    }
   ],
   "source": [
    "model_name = 'ssdlite_mobilenet_v2_coco_2018_05_09'\n",
    "detection_model = load_model(model_name)"
   ]
  },
  {
   "cell_type": "markdown",
   "metadata": {},
   "source": [
    "# Para una sola imagen"
   ]
  },
  {
   "cell_type": "code",
   "execution_count": 8,
   "metadata": {},
   "outputs": [],
   "source": [
    "img = cv2.imread('escritorio.jpg')\n",
    "output_dict = run_inference_for_single_image(detection_model, img)"
   ]
  },
  {
   "cell_type": "code",
   "execution_count": 9,
   "metadata": {},
   "outputs": [],
   "source": [
    "temp=vis_util.visualize_boxes_and_labels_on_image_array(\n",
    "        img,\n",
    "        output_dict['detection_boxes'],\n",
    "        output_dict['detection_classes'],\n",
    "        output_dict['detection_scores'],\n",
    "        category_index,\n",
    "        instance_masks=output_dict.get('detection_masks_reframed', None),\n",
    "        use_normalized_coordinates=True,line_thickness=8)"
   ]
  },
  {
   "cell_type": "code",
   "execution_count": 10,
   "metadata": {},
   "outputs": [],
   "source": [
    "cv2.namedWindow('image')\n",
    "cv2.imshow('image',temp)\n",
    "cv2.waitKey(0)\n",
    "cv2.destroyAllWindows()"
   ]
  },
  {
   "cell_type": "code",
   "execution_count": null,
   "metadata": {},
   "outputs": [],
   "source": []
  },
  {
   "cell_type": "code",
   "execution_count": null,
   "metadata": {},
   "outputs": [],
   "source": []
  },
  {
   "cell_type": "code",
   "execution_count": null,
   "metadata": {},
   "outputs": [],
   "source": []
  },
  {
   "cell_type": "code",
   "execution_count": null,
   "metadata": {},
   "outputs": [],
   "source": []
  },
  {
   "cell_type": "code",
   "execution_count": null,
   "metadata": {},
   "outputs": [],
   "source": []
  },
  {
   "cell_type": "code",
   "execution_count": null,
   "metadata": {},
   "outputs": [],
   "source": []
  },
  {
   "cell_type": "code",
   "execution_count": null,
   "metadata": {},
   "outputs": [],
   "source": []
  },
  {
   "cell_type": "markdown",
   "metadata": {},
   "source": [
    "# Para un streaming local de video"
   ]
  },
  {
   "cell_type": "code",
   "execution_count": 11,
   "metadata": {
    "jupyter": {
     "outputs_hidden": true
    }
   },
   "outputs": [],
   "source": [
    "cap = cv2.VideoCapture(0)\n",
    "\n",
    "while(cap.isOpened()):\n",
    "\n",
    "    ret , image_np = cap.read()  \n",
    "\n",
    "    output_dict = run_inference_for_single_image(detection_model, image_np)\n",
    "    # Visualization of the results of a detection.\n",
    "    vis_util.visualize_boxes_and_labels_on_image_array(\n",
    "        image_np,\n",
    "        output_dict['detection_boxes'],\n",
    "        output_dict['detection_classes'],\n",
    "        output_dict['detection_scores'],\n",
    "        category_index,\n",
    "        instance_masks=output_dict.get('detection_masks_reframed', None),\n",
    "        use_normalized_coordinates=True,line_thickness=8)\n",
    "\n",
    "    if ret == True:\n",
    "        \n",
    "        cv2.imshow('frame',image_np)\n",
    "        if cv2.waitKey(25) & 0xFF == ord('q'):\n",
    "            cv2.destroyAllWindows()\n",
    "            break\n",
    "    else:\n",
    "        break\n",
    "\n",
    "cap.release()\n",
    "cv2.destroyAllWindows()\n"
   ]
  },
  {
   "cell_type": "code",
   "execution_count": null,
   "metadata": {},
   "outputs": [],
   "source": []
  }
 ],
 "metadata": {
  "kernelspec": {
   "display_name": "Python 3",
   "language": "python",
   "name": "python3"
  },
  "language_info": {
   "codemirror_mode": {
    "name": "ipython",
    "version": 3
   },
   "file_extension": ".py",
   "mimetype": "text/x-python",
   "name": "python",
   "nbconvert_exporter": "python",
   "pygments_lexer": "ipython3",
   "version": "3.7.4"
  }
 },
 "nbformat": 4,
 "nbformat_minor": 4
}
